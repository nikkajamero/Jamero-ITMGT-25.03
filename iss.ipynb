{
 "cells": [
  {
   "cell_type": "code",
   "execution_count": null,
   "id": "21c30306",
   "metadata": {},
   "outputs": [],
   "source": [
    "import requests\n",
    "import time\n",
    "import matplotlib.pyplot as plt\n",
    "\n",
    "latitudes = []\n",
    "longitudes = []\n",
    "timestamps = []\n",
    "\n",
    "num_points = 100\n",
    "request_interval = 10\n",
    "total_duration = num_points * request_interval\n",
    "\n",
    "for _ in range(num_points):\n",
    "    response = requests.get(\"http://api.open-notify.org/iss-now.json\")\n",
    "    data = response.json()\n",
    "\n",
    "    latitude = float(data[\"iss_position\"][\"latitude\"])\n",
    "    longitude = float(data[\"iss_position\"][\"longitude\"])\n",
    "    timestamp = int(data[\"timestamp\"])\n",
    "\n",
    "    latitudes.append(latitude)\n",
    "    longitudes.append(longitude)\n",
    "    timestamps.append(timestamp)\n",
    "\n",
    "    time.sleep(request_interval)\n",
    "\n",
    "plt.scatter(longitudes, latitudes, c=timestamps, cmap=\"cool\", alpha=0.7)\n",
    "plt.colorbar(label=\"Timestamp\")\n",
    "plt.xlabel(\"Longitude\")\n",
    "plt.ylabel(\"Latitude\")\n",
    "plt.title(\"Path of the International Space Station\")\n",
    "plt.show()"
   ]
  }
 ],
 "metadata": {
  "kernelspec": {
   "display_name": "Python 3 (ipykernel)",
   "language": "python",
   "name": "python3"
  },
  "language_info": {
   "codemirror_mode": {
    "name": "ipython",
    "version": 3
   },
   "file_extension": ".py",
   "mimetype": "text/x-python",
   "name": "python",
   "nbconvert_exporter": "python",
   "pygments_lexer": "ipython3",
   "version": "3.10.9"
  }
 },
 "nbformat": 4,
 "nbformat_minor": 5
}
